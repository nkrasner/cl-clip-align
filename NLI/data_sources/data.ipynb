{
 "cells": [
  {
   "cell_type": "code",
   "execution_count": 2,
   "metadata": {},
   "outputs": [],
   "source": [
    "import json\n",
    "# data_class = \"dev\"\n",
    "\n",
    "# with open(f\"snli_1.0/snli_1.0/snli_1.0_{data_class}.txt\") as f:\n",
    "#     lines = f.readlines()\n",
    "    \n",
    "# snli_data = [(line.split(\"\\t\")[5], line.split(\"\\t\")[6], line.split(\"\\t\")[0]) for line in lines[1:] if line[0] != \"-\"]\n",
    "\n",
    "with open(f\"multinli_1.0/multinli_1.0/multinli_1.0_train.txt\", encoding=\"utf-8\") as f:\n",
    "    lines = f.readlines()[1:]\n",
    "\n",
    "train_data = [(line.split(\"\\t\")[5], line.split(\"\\t\")[6], line.split(\"\\t\")[0]) for line in lines if line[0] != \"-\"]\n",
    "\n",
    "with open(f\"multinli_1.0/multinli_1.0/multinli_1.0_dev_matched.txt\", encoding=\"utf-8\") as f:\n",
    "    lines = f.readlines()[1:]\n",
    "\n",
    "with open(f\"multinli_1.0/multinli_1.0/multinli_1.0_dev_mismatched.txt\", encoding=\"utf-8\") as f:\n",
    "    lines += f.readlines()[1:]\n",
    "\n",
    "dev_data = [(line.split(\"\\t\")[5], line.split(\"\\t\")[6], line.split(\"\\t\")[0]) for line in lines if line[0] != \"-\"]\n",
    "\n",
    "\n",
    "with open(f\"data/train.json\", \"w\") as f:\n",
    "    json.dump(train_data, f)\n",
    "    \n",
    "with open(f\"data/dev.json\", \"w\") as f:\n",
    "    json.dump(dev_data, f)"
   ]
  },
  {
   "cell_type": "code",
   "execution_count": 11,
   "metadata": {},
   "outputs": [],
   "source": [
    "with open(\"./XNLI-1.0/XNLI-1.0/xnli.test.tsv\", encoding=\"utf-8\") as f:\n",
    "    lines = f.readlines()\n",
    "    \n",
    "xnli_data = {}\n",
    "for line in lines[1:]:\n",
    "    line = line.split(\"\\t\")\n",
    "    if line[0] not in xnli_data:\n",
    "        xnli_data[line[0]] = []\n",
    "    xnli_data[line[0]].append((line[6], line[7], line[1]))\n",
    "    \n",
    "with open(\"./americasnli-main/americasnli-main/data/anli_final/test/anli.test.tsv\", encoding=\"utf-8\") as f:\n",
    "    lines = f.readlines()\n",
    "\n",
    "for line in lines[1:]:\n",
    "    line = line.strip().split(\"\\t\")\n",
    "    if line[1] not in xnli_data:\n",
    "        xnli_data[line[1]] = []\n",
    "    xnli_data[line[1]].append((line[2], line[3], line[4]))\n",
    "    \n",
    "    \n",
    "for lang in xnli_data:\n",
    "    with open(f\"data/{lang}_test.json\", \"w\") as f:\n",
    "        json.dump(xnli_data[lang], f)"
   ]
  },
  {
   "cell_type": "code",
   "execution_count": 13,
   "metadata": {},
   "outputs": [
    {
     "data": {
      "text/plain": [
       "'ar\", \"bg\", \"de\", \"el\", \"en\", \"es\", \"fr\", \"hi\", \"ru\", \"sw\", \"th\", \"tr\", \"ur\", \"vi\", \"zh\", \"aym\", \"bzd\", \"cni\", \"gn\", \"hch\", \"nah\", \"oto\", \"quy\", \"shp\", \"tar'"
      ]
     },
     "execution_count": 13,
     "metadata": {},
     "output_type": "execute_result"
    }
   ],
   "source": [
    "\"\\\", \\\"\".join(list(xnli_data.keys()))"
   ]
  },
  {
   "cell_type": "code",
   "execution_count": 10,
   "metadata": {},
   "outputs": [],
   "source": [
    "valid_classes = [\"contradiction\", \"entailment\", \"neutral\"]\n",
    "for line in lines[1:]:\n",
    "    line = line.strip().split(\"\\t\")\n",
    "    if line[4] not in valid_classes:\n",
    "        print(line)"
   ]
  }
 ],
 "metadata": {
  "kernelspec": {
   "display_name": "Python 3",
   "language": "python",
   "name": "python3"
  },
  "language_info": {
   "codemirror_mode": {
    "name": "ipython",
    "version": 3
   },
   "file_extension": ".py",
   "mimetype": "text/x-python",
   "name": "python",
   "nbconvert_exporter": "python",
   "pygments_lexer": "ipython3",
   "version": "3.10.0"
  }
 },
 "nbformat": 4,
 "nbformat_minor": 2
}
